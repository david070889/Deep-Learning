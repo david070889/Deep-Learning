{
 "cells": [
  {
   "cell_type": "code",
   "execution_count": 2,
   "id": "a8af3128-8cf6-4ff1-a338-04b3644d9660",
   "metadata": {
    "tags": []
   },
   "outputs": [],
   "source": [
    "## import os\n",
    "import shutil\n",
    "from torchvision import datasets, transforms, models\n",
    "from torch.utils.data import DataLoader\n",
    "import torch\n",
    "import torch.nn as nn\n",
    "import torch.optim as optim\n",
    "\n",
    "# 資料增強與標準化\n",
    "transform = transforms.Compose([\n",
    "    transforms.Resize(256),  # 首先將圖像大小調整為 256x256\n",
    "    transforms.CenterCrop(224),  # 然後將圖像中心裁剪為 224x224\n",
    "    transforms.ToTensor(),\n",
    "    transforms.Normalize(mean=[0.485, 0.456, 0.406], std=[0.229, 0.224, 0.225])\n",
    "])\n",
    "\n",
    "base_train_dir = '../train'\n",
    "base_val_dir = '../val'\n",
    "base_test_dir = '../test'\n",
    "\n",
    "# 創建資料集\n",
    "train_dataset = datasets.ImageFolder(base_train_dir, transform=transform)\n",
    "val_dataset = datasets.ImageFolder(base_val_dir, transform=transform)\n",
    "test_dataset = datasets.ImageFolder(base_test_dir, transform=transform)\n",
    "\n",
    "# 創建資料加載器\n",
    "train_loader = DataLoader(train_dataset, batch_size=128, shuffle=True)\n",
    "val_loader = DataLoader(val_dataset, batch_size=128, shuffle=False)\n",
    "test_loader = DataLoader(test_dataset, batch_size=128, shuffle=False)"
   ]
  },
  {
   "cell_type": "code",
   "execution_count": 3,
   "id": "7e978cb5-316d-4823-abbd-6d8532830f90",
   "metadata": {
    "tags": []
   },
   "outputs": [],
   "source": [
    "from tqdm import tqdm\n",
    "\n",
    "# 訓練函數\n",
    "def train(epoch, epochs, model, train_loader, optimizer, loss_function, device):\n",
    "    model.train()\n",
    "    running_loss = 0.0\n",
    "    correct = 0\n",
    "    total = 0\n",
    "    train_bar = tqdm(train_loader, file=sys.stdout)\n",
    "    \n",
    "    for step, data in enumerate(train_bar):\n",
    "        images, labels = data\n",
    "        images, labels = images.to(device), labels.to(device)  # 確保數據在正確的設備上\n",
    "        optimizer.zero_grad()\n",
    "        logits = model(images)  # 模型輸出\n",
    "        loss = loss_function(logits, labels)\n",
    "        loss.backward()\n",
    "        optimizer.step()\n",
    "\n",
    "        running_loss += loss.item()\n",
    "\n",
    "        # 計算準確率\n",
    "        _, predicted = torch.max(logits, 1)\n",
    "        total += labels.size(0)\n",
    "        correct += (predicted == labels).sum().item()\n",
    "\n",
    "        train_bar.desc = \"train epoch[{}/{}] loss:{:.3f}\".format(epoch + 1, epochs, loss)\n",
    "    running_loss = running_loss / len(train_loader)\n",
    "    accuracy = 100. * correct / total\n",
    "    return running_loss, accuracy"
   ]
  },
  {
   "cell_type": "code",
   "execution_count": 4,
   "id": "edb314b2-4fd8-4d93-b994-6ec638e6ff63",
   "metadata": {
    "tags": []
   },
   "outputs": [],
   "source": [
    "# 驗證函數\n",
    "def validate(epoch, epochs, model, validate_loader, loss_function, device):\n",
    "    model.eval()\n",
    "    acc = 0.0\n",
    "    val_loss = 0.0\n",
    "    val_num = len(validate_loader.dataset)\n",
    "    \n",
    "    with torch.no_grad():\n",
    "        val_bar = tqdm(validate_loader, file=sys.stdout)\n",
    "        for val_data in val_bar:\n",
    "            val_images, val_labels = val_data\n",
    "            val_images, val_labels = val_images.to(device), val_labels.to(device)\n",
    "            outputs = model(val_images)\n",
    "            loss = loss_function(outputs, val_labels)\n",
    "            val_loss += loss.item() * val_images.size(0)\n",
    "\n",
    "            predict_y = torch.max(outputs, dim=1)[1]\n",
    "            acc += torch.eq(predict_y, val_labels).sum().item()\n",
    "\n",
    "            val_bar.desc = \"valid epoch[{}/{}]\".format(epoch + 1, epochs)\n",
    "    \n",
    "    val_loss /= val_num\n",
    "    val_accurate = 100. *acc / val_num\n",
    "    return val_loss, val_accurate"
   ]
  },
  {
   "cell_type": "code",
   "execution_count": 22,
   "id": "2e3b5128-2111-42e0-b7b3-bb2fdc816b87",
   "metadata": {
    "tags": []
   },
   "outputs": [
    {
     "name": "stdout",
     "output_type": "stream",
     "text": [
      "using cuda device.\n"
     ]
    }
   ],
   "source": [
    "from resnet import resnet34 \n",
    "# 設定設備\n",
    "device = torch.device('cuda' if torch.cuda.is_available() else 'cpu')\n",
    "print(\"using {} device.\".format(device))\n",
    "\n",
    "# 定義 ResNet-34 模型（不使用預訓練權重）\n",
    "model = resnet34(num_classes=50, include_top=True)\n",
    "model = model.to(device)\n",
    "\n",
    "# 定義損失函數和優化器\n",
    "criterion = nn.CrossEntropyLoss()\n",
    "optimizer = optim.Adam(model.parameters(), lr=0.001)"
   ]
  },
  {
   "cell_type": "code",
   "execution_count": 23,
   "id": "83bc86f4-aeb2-4d1b-bcb2-759a38083e70",
   "metadata": {
    "tags": []
   },
   "outputs": [
    {
     "name": "stdout",
     "output_type": "stream",
     "text": [
      "train epoch[1/10] loss:2.749: 100%|██████████| 495/495 [02:39<00:00,  3.10it/s]\n",
      "valid epoch[1/10]: 100%|██████████| 4/4 [00:00<00:00,  5.42it/s]\n",
      "[epoch 1] train_loss: 3.207  train_accuracy: 14.659\n",
      "[epoch 1] val_loss: 2.812  val_accuracy: 22.000\n",
      "Training_Time: 160.43 seconds\n",
      "train epoch[2/10] loss:2.464: 100%|██████████| 495/495 [02:44<00:00,  3.00it/s]\n",
      "valid epoch[2/10]: 100%|██████████| 4/4 [00:00<00:00,  4.55it/s]\n",
      "[epoch 2] train_loss: 2.541  train_accuracy: 28.163\n",
      "[epoch 2] val_loss: 2.522  val_accuracy: 30.667\n",
      "Training_Time: 165.85 seconds\n",
      "train epoch[3/10] loss:1.911: 100%|██████████| 495/495 [02:41<00:00,  3.06it/s]\n",
      "valid epoch[3/10]: 100%|██████████| 4/4 [00:00<00:00,  5.72it/s]\n",
      "[epoch 3] train_loss: 2.078  train_accuracy: 39.019\n",
      "[epoch 3] val_loss: 2.092  val_accuracy: 37.556\n",
      "Training_Time: 162.48 seconds\n",
      "train epoch[4/10] loss:1.684: 100%|██████████| 495/495 [02:41<00:00,  3.07it/s]\n",
      "valid epoch[4/10]: 100%|██████████| 4/4 [00:01<00:00,  3.45it/s]\n",
      "[epoch 4] train_loss: 1.710  train_accuracy: 48.578\n",
      "[epoch 4] val_loss: 1.798  val_accuracy: 43.778\n",
      "Training_Time: 162.31 seconds\n",
      "train epoch[5/10] loss:1.412: 100%|██████████| 495/495 [02:46<00:00,  2.98it/s]\n",
      "valid epoch[5/10]: 100%|██████████| 4/4 [00:00<00:00,  5.57it/s]\n",
      "[epoch 5] train_loss: 1.457  train_accuracy: 55.376\n",
      "[epoch 5] val_loss: 1.644  val_accuracy: 49.778\n",
      "Training_Time: 167.03 seconds\n",
      "train epoch[6/10] loss:1.686: 100%|██████████| 495/495 [02:45<00:00,  3.00it/s]\n",
      "valid epoch[6/10]: 100%|██████████| 4/4 [00:00<00:00,  5.59it/s]\n",
      "[epoch 6] train_loss: 1.244  train_accuracy: 61.227\n",
      "[epoch 6] val_loss: 1.722  val_accuracy: 51.556\n",
      "Training_Time: 166.04 seconds\n",
      "train epoch[7/10] loss:0.991: 100%|██████████| 495/495 [02:37<00:00,  3.15it/s]\n",
      "valid epoch[7/10]: 100%|██████████| 4/4 [00:00<00:00,  4.69it/s]\n",
      "[epoch 7] train_loss: 1.076  train_accuracy: 65.720\n",
      "[epoch 7] val_loss: 1.554  val_accuracy: 51.778\n",
      "Training_Time: 158.15 seconds\n",
      "train epoch[8/10] loss:1.107: 100%|██████████| 495/495 [03:00<00:00,  2.74it/s]\n",
      "valid epoch[8/10]: 100%|██████████| 4/4 [00:00<00:00,  5.21it/s]\n",
      "[epoch 8] train_loss: 0.925  train_accuracy: 69.953\n",
      "[epoch 8] val_loss: 1.471  val_accuracy: 55.778\n",
      "Training_Time: 181.83 seconds\n",
      "train epoch[9/10] loss:0.968: 100%|██████████| 495/495 [02:59<00:00,  2.76it/s]\n",
      "valid epoch[9/10]: 100%|██████████| 4/4 [00:00<00:00,  5.40it/s]\n",
      "[epoch 9] train_loss: 0.787  train_accuracy: 73.974\n",
      "[epoch 9] val_loss: 1.424  val_accuracy: 58.889\n",
      "Training_Time: 180.13 seconds\n",
      "train epoch[10/10] loss:0.629: 100%|██████████| 495/495 [02:32<00:00,  3.24it/s]\n",
      "valid epoch[10/10]: 100%|██████████| 4/4 [00:00<00:00,  5.71it/s]\n",
      "[epoch 10] train_loss: 0.643  train_accuracy: 78.192\n",
      "[epoch 10] val_loss: 1.506  val_accuracy: 59.111\n",
      "Training_Time: 153.75 seconds\n",
      "訓練完成\n"
     ]
    }
   ],
   "source": [
    "import time\n",
    "import sys\n",
    "import tqdm as notebook_tqdm\n",
    "\n",
    "# 訓練和驗證模型\n",
    "num_epochs = 10\n",
    "best_acc = 0.0\n",
    "save_path = 'best_resnet34.pth'\n",
    "t_l, t_a = [], []\n",
    "v_l, v_a = [], []\n",
    "for epoch in range(num_epochs):\n",
    "    start_time = time.time()\n",
    "    train_loss, train_accuracy = train(epoch, num_epochs, model, train_loader, optimizer, criterion, device)\n",
    "    val_loss, val_accurate = validate(epoch, num_epochs, model, val_loader, criterion, device)\n",
    "    t_l.append(train_loss)\n",
    "    t_a.append(train_accuracy)\n",
    "    v_l.append(val_loss)\n",
    "    v_a.append(val_accurate)\n",
    "    \n",
    "    print('[epoch %d] train_loss: %.3f  train_accuracy: %.3f' %\n",
    "            (epoch + 1, train_loss, train_accuracy))\n",
    "    print('[epoch %d] val_loss: %.3f  val_accuracy: %.3f' %\n",
    "            (epoch + 1, val_loss, val_accurate))\n",
    "    \n",
    "    if val_accurate > best_acc:\n",
    "        best_acc = val_accurate\n",
    "        torch.save(model.state_dict(), save_path)\n",
    "    end_time = time.time()\n",
    "    print(f'Training_Time: {end_time - start_time:.2f} seconds')\n",
    "    \n",
    "print('訓練完成')"
   ]
  },
  {
   "cell_type": "code",
   "execution_count": 24,
   "id": "0e840591-6845-4754-b1f3-cad492907d7a",
   "metadata": {
    "tags": []
   },
   "outputs": [
    {
     "name": "stdout",
     "output_type": "stream",
     "text": [
      "Test Acc: 0.6289\n"
     ]
    }
   ],
   "source": [
    "# 測試模型\n",
    "model.load_state_dict(torch.load('best_resnet34.pth'))\n",
    "model.eval()\n",
    "test_running_corrects = 0\n",
    "\n",
    "with torch.no_grad():\n",
    "    for inputs, labels in test_loader:\n",
    "        inputs = inputs.to(device)\n",
    "        labels = labels.to(device)\n",
    "\n",
    "        outputs = model(inputs)\n",
    "        _, preds = torch.max(outputs, 1)\n",
    "        test_running_corrects += torch.sum(preds == labels.data)\n",
    "\n",
    "test_acc = test_running_corrects.double() / len(test_dataset)\n",
    "print(f'Test Acc: {test_acc:.4f}')"
   ]
  },
  {
   "cell_type": "code",
   "execution_count": 18,
   "id": "43d2c8c2-a9b3-4d15-ba12-e8df2553cddb",
   "metadata": {
    "tags": []
   },
   "outputs": [],
   "source": [
    "def save_metrics_to_file(t_l, t_a, v_l, v_a, filename='metrics.txt'):\n",
    "    with open(filename, 'w') as file:\n",
    "        file.write(\"Train Loss:\\n\")\n",
    "        for item in t_l:\n",
    "            file.write(f\"{item}\\n\")\n",
    "        \n",
    "        file.write(\"Train Accuracy:\\n\")\n",
    "        for item in t_a:\n",
    "            file.write(f\"{item}\\n\")\n",
    "        \n",
    "        file.write(\"Validation Loss:\\n\")\n",
    "        for item in v_l:\n",
    "            file.write(f\"{item}\\n\")\n",
    "        \n",
    "        file.write(\"Validation Accuracy:\\n\")\n",
    "        for item in v_a:\n",
    "            file.write(f\"{item}\\n\")"
   ]
  },
  {
   "cell_type": "code",
   "execution_count": 26,
   "id": "074fd2e8-7168-4497-9e8b-663b2f83bf99",
   "metadata": {
    "tags": []
   },
   "outputs": [],
   "source": [
    "# 假設 t_l, t_a, v_l, v_a 已經被填充\n",
    "filename = 'resnet34.txt'\n",
    "save_metrics_to_file(t_l, t_a, v_l, v_a, filename)"
   ]
  },
  {
   "cell_type": "markdown",
   "id": "04999d6c-732c-41e4-a659-3445f1eff95e",
   "metadata": {},
   "source": [
    "# import revised-alexnet"
   ]
  },
  {
   "cell_type": "code",
   "execution_count": 10,
   "id": "cb8bef1c-932d-4e07-b6b8-6d6e83881654",
   "metadata": {
    "tags": []
   },
   "outputs": [
    {
     "name": "stdout",
     "output_type": "stream",
     "text": [
      "using cuda device.\n"
     ]
    }
   ],
   "source": [
    "from revised_alexnet import AlexNet\n",
    "# 設定設備\n",
    "device = torch.device('cuda' if torch.cuda.is_available() else 'cpu')\n",
    "print(\"using {} device.\".format(device))\n",
    "\n",
    "# 定義 revised_alexnet 模型（不使用預訓練權重）\n",
    "model = AlexNet(num_classes=50)\n",
    "model = model.to(device)\n",
    "\n",
    "# 定義損失函數和優化器\n",
    "criterion = nn.CrossEntropyLoss()\n",
    "optimizer = optim.Adam(model.parameters(), lr=0.001)"
   ]
  },
  {
   "cell_type": "code",
   "execution_count": 17,
   "id": "46d7b544-03be-4afa-967a-faa5f0e59618",
   "metadata": {
    "tags": []
   },
   "outputs": [
    {
     "name": "stdout",
     "output_type": "stream",
     "text": [
      "train epoch[1/10] loss:3.924: 100%|██████████| 1979/1979 [01:49<00:00, 18.15it/s]\n",
      "valid epoch[1/10]: 100%|██████████| 15/15 [00:00<00:00, 23.67it/s]\n",
      "[epoch 1] train_loss: 3.911  train_accuracy: 1.832\n",
      "[epoch 1] val_loss: 3.913  val_accuracy: 2.000\n",
      "Training_Time: 109.73 seconds\n",
      "train epoch[2/10] loss:3.900: 100%|██████████| 1979/1979 [01:47<00:00, 18.40it/s]\n",
      "valid epoch[2/10]: 100%|██████████| 15/15 [00:00<00:00, 24.59it/s]\n",
      "[epoch 2] train_loss: 3.910  train_accuracy: 1.931\n",
      "[epoch 2] val_loss: 3.914  val_accuracy: 2.000\n",
      "Training_Time: 108.18 seconds\n",
      "train epoch[3/10] loss:3.901: 100%|██████████| 1979/1979 [01:44<00:00, 18.99it/s]\n",
      "valid epoch[3/10]: 100%|██████████| 15/15 [00:00<00:00, 25.13it/s]\n",
      "[epoch 3] train_loss: 3.910  train_accuracy: 1.911\n",
      "[epoch 3] val_loss: 3.915  val_accuracy: 2.000\n",
      "Training_Time: 104.81 seconds\n",
      "train epoch[4/10] loss:3.915: 100%|██████████| 1979/1979 [01:46<00:00, 18.52it/s]\n",
      "valid epoch[4/10]: 100%|██████████| 15/15 [00:00<00:00, 25.60it/s]\n",
      "[epoch 4] train_loss: 3.910  train_accuracy: 1.843\n",
      "[epoch 4] val_loss: 3.915  val_accuracy: 2.000\n",
      "Training_Time: 107.43 seconds\n",
      "train epoch[5/10] loss:3.900: 100%|██████████| 1979/1979 [01:45<00:00, 18.73it/s]\n",
      "valid epoch[5/10]: 100%|██████████| 15/15 [00:00<00:00, 25.09it/s]\n",
      "[epoch 5] train_loss: 3.910  train_accuracy: 1.893\n",
      "[epoch 5] val_loss: 3.915  val_accuracy: 2.000\n",
      "Training_Time: 106.25 seconds\n",
      "train epoch[6/10] loss:3.903: 100%|██████████| 1979/1979 [01:45<00:00, 18.84it/s]\n",
      "valid epoch[6/10]: 100%|██████████| 15/15 [00:00<00:00, 24.72it/s]\n",
      "[epoch 6] train_loss: 3.910  train_accuracy: 1.928\n",
      "[epoch 6] val_loss: 3.915  val_accuracy: 2.000\n",
      "Training_Time: 105.65 seconds\n",
      "train epoch[7/10] loss:3.921: 100%|██████████| 1979/1979 [01:45<00:00, 18.80it/s]\n",
      "valid epoch[7/10]: 100%|██████████| 15/15 [00:00<00:00, 23.72it/s]\n",
      "[epoch 7] train_loss: 3.910  train_accuracy: 1.856\n",
      "[epoch 7] val_loss: 3.915  val_accuracy: 2.000\n",
      "Training_Time: 105.92 seconds\n",
      "train epoch[8/10] loss:3.900: 100%|██████████| 1979/1979 [01:44<00:00, 18.98it/s]\n",
      "valid epoch[8/10]: 100%|██████████| 15/15 [00:00<00:00, 25.98it/s]\n",
      "[epoch 8] train_loss: 3.910  train_accuracy: 1.917\n",
      "[epoch 8] val_loss: 3.915  val_accuracy: 2.000\n",
      "Training_Time: 104.87 seconds\n",
      "train epoch[9/10] loss:3.911: 100%|██████████| 1979/1979 [01:46<00:00, 18.51it/s]\n",
      "valid epoch[9/10]: 100%|██████████| 15/15 [00:00<00:00, 23.40it/s]\n",
      "[epoch 9] train_loss: 3.910  train_accuracy: 1.843\n",
      "[epoch 9] val_loss: 3.915  val_accuracy: 2.000\n",
      "Training_Time: 107.57 seconds\n",
      "train epoch[10/10] loss:3.905: 100%|██████████| 1979/1979 [01:46<00:00, 18.63it/s]\n",
      "valid epoch[10/10]: 100%|██████████| 15/15 [00:00<00:00, 23.64it/s]\n",
      "[epoch 10] train_loss: 3.910  train_accuracy: 1.867\n",
      "[epoch 10] val_loss: 3.915  val_accuracy: 2.000\n",
      "Training_Time: 106.89 seconds\n",
      "訓練完成\n"
     ]
    }
   ],
   "source": [
    "import time\n",
    "import sys\n",
    "import tqdm as notebook_tqdm\n",
    "\n",
    "# 訓練和驗證模型\n",
    "num_epochs = 10\n",
    "best_acc = 0.0\n",
    "save_path = 'best_re_alexnet.pth'\n",
    "t_l, t_a = [], []\n",
    "v_l, v_a = [], []\n",
    "for epoch in range(num_epochs):\n",
    "    start_time = time.time()\n",
    "    train_loss, train_accuracy = train(epoch, num_epochs, model, train_loader, optimizer, criterion, device)\n",
    "    val_loss, val_accurate = validate(epoch, num_epochs, model, val_loader, criterion, device)\n",
    "    t_l.append(train_loss)\n",
    "    t_a.append(train_accuracy)\n",
    "    v_l.append(val_loss)\n",
    "    v_a.append(val_accurate)\n",
    "    \n",
    "    print('[epoch %d] train_loss: %.3f  train_accuracy: %.3f' %\n",
    "            (epoch + 1, train_loss, train_accuracy))\n",
    "    print('[epoch %d] val_loss: %.3f  val_accuracy: %.3f' %\n",
    "            (epoch + 1, val_loss, val_accurate))\n",
    "    \n",
    "    if val_accurate > best_acc:\n",
    "        best_acc = val_accurate\n",
    "        torch.save(model.state_dict(), save_path)\n",
    "    end_time = time.time()\n",
    "    print(f'Training_Time: {end_time - start_time:.2f} seconds')\n",
    "    \n",
    "print('訓練完成')"
   ]
  },
  {
   "cell_type": "code",
   "execution_count": null,
   "id": "12534bac-39fe-4ed5-bea5-825161ea9967",
   "metadata": {
    "tags": []
   },
   "outputs": [],
   "source": [
    "# 測試模型\n",
    "model.load_state_dict(torch.load('best_re_alexnet.pth'))\n",
    "model.eval()\n",
    "test_running_corrects = 0\n",
    "\n",
    "with torch.no_grad():\n",
    "    for inputs, labels in test_loader:\n",
    "        inputs = inputs.to(device)\n",
    "        labels = labels.to(device)\n",
    "\n",
    "        outputs = model(inputs)\n",
    "        _, preds = torch.max(outputs, 1)\n",
    "        test_running_corrects += torch.sum(preds == labels.data)\n",
    "\n",
    "test_acc = test_running_corrects.double() / len(test_dataset)\n",
    "print(f'Test Acc: {test_acc:.4f}')"
   ]
  },
  {
   "cell_type": "code",
   "execution_count": 18,
   "id": "3c81e5fd-e74b-49a3-be5d-b0a525216b48",
   "metadata": {
    "tags": []
   },
   "outputs": [],
   "source": [
    "# 假設 t_l, t_a, v_l, v_a 已經被填充\n",
    "filename = 're_alexnet.txt'\n",
    "save_metrics_to_file(t_l, t_a, v_l, v_a, filename)"
   ]
  },
  {
   "cell_type": "markdown",
   "id": "9156086b-ce74-4dc4-a7a6-1f5904b45a9d",
   "metadata": {},
   "source": [
    "# import revised ResNet"
   ]
  },
  {
   "cell_type": "code",
   "execution_count": 6,
   "id": "0c63e60c-5c11-4c26-9507-92d68c95a6a6",
   "metadata": {},
   "outputs": [
    {
     "name": "stdout",
     "output_type": "stream",
     "text": [
      "using cuda device.\n"
     ]
    }
   ],
   "source": [
    "from revised_res import revised_resnet\n",
    "\n",
    "device = torch.device('cuda' if torch.cuda.is_available() else 'cpu')\n",
    "print(\"using {} device.\".format(device))\n",
    "\n",
    "# 定義 revised_RDN 模型（不使用預訓練權重）\n",
    "model = revised_resnet()\n",
    "model = model.to(device) \n",
    "\n",
    "# 定義損失函數和優化器\n",
    "criterion = nn.CrossEntropyLoss()\n",
    "optimizer = optim.Adam(model.parameters(), lr=0.001, weight_decay=1e-4)"
   ]
  },
  {
   "cell_type": "code",
   "execution_count": 7,
   "id": "0dee9998-8665-497f-971e-8f026446edec",
   "metadata": {
    "tags": []
   },
   "outputs": [
    {
     "name": "stdout",
     "output_type": "stream",
     "text": [
      "train epoch[1/10] loss:2.839: 100%|██████████| 495/495 [03:17<00:00,  2.51it/s]\n",
      "valid epoch[1/10]: 100%|██████████| 4/4 [00:00<00:00,  4.66it/s]\n",
      "[epoch 1] train_loss: 3.422  train_accuracy: 11.270\n",
      "[epoch 1] val_loss: 3.254  val_accuracy: 16.444\n",
      "Training_Time: 198.38 seconds\n",
      "train epoch[2/10] loss:2.941: 100%|██████████| 495/495 [02:45<00:00,  2.99it/s]\n",
      "valid epoch[2/10]: 100%|██████████| 4/4 [00:00<00:00,  5.42it/s]\n",
      "[epoch 2] train_loss: 2.964  train_accuracy: 18.969\n",
      "[epoch 2] val_loss: 3.262  val_accuracy: 18.000\n",
      "Training_Time: 166.43 seconds\n",
      "train epoch[3/10] loss:2.495: 100%|██████████| 495/495 [02:45<00:00,  3.00it/s]\n",
      "valid epoch[3/10]: 100%|██████████| 4/4 [00:00<00:00,  5.29it/s]\n",
      "[epoch 3] train_loss: 2.667  train_accuracy: 25.075\n",
      "[epoch 3] val_loss: 2.624  val_accuracy: 29.111\n",
      "Training_Time: 166.07 seconds\n",
      "train epoch[4/10] loss:2.181: 100%|██████████| 495/495 [02:46<00:00,  2.98it/s]\n",
      "valid epoch[4/10]: 100%|██████████| 4/4 [00:00<00:00,  5.24it/s]\n",
      "[epoch 4] train_loss: 2.457  train_accuracy: 29.655\n",
      "[epoch 4] val_loss: 2.517  val_accuracy: 28.667\n",
      "Training_Time: 167.09 seconds\n",
      "train epoch[5/10] loss:2.161: 100%|██████████| 495/495 [02:47<00:00,  2.96it/s]\n",
      "valid epoch[5/10]: 100%|██████████| 4/4 [00:00<00:00,  5.08it/s]\n",
      "[epoch 5] train_loss: 2.270  train_accuracy: 33.960\n",
      "[epoch 5] val_loss: 2.235  val_accuracy: 34.000\n",
      "Training_Time: 168.24 seconds\n",
      "train epoch[6/10] loss:2.300: 100%|██████████| 495/495 [02:45<00:00,  2.99it/s]\n",
      "valid epoch[6/10]: 100%|██████████| 4/4 [00:00<00:00,  5.17it/s]\n",
      "[epoch 6] train_loss: 2.114  train_accuracy: 37.758\n",
      "[epoch 6] val_loss: 2.686  val_accuracy: 31.333\n",
      "Training_Time: 166.37 seconds\n",
      "train epoch[7/10] loss:2.156: 100%|██████████| 495/495 [02:43<00:00,  3.03it/s]\n",
      "valid epoch[7/10]: 100%|██████████| 4/4 [00:00<00:00,  5.04it/s]\n",
      "[epoch 7] train_loss: 1.956  train_accuracy: 41.977\n",
      "[epoch 7] val_loss: 2.447  val_accuracy: 32.889\n",
      "Training_Time: 164.36 seconds\n",
      "train epoch[8/10] loss:1.878: 100%|██████████| 495/495 [02:44<00:00,  3.02it/s]\n",
      "valid epoch[8/10]: 100%|██████████| 4/4 [00:00<00:00,  5.39it/s]\n",
      "[epoch 8] train_loss: 1.840  train_accuracy: 44.843\n",
      "[epoch 8] val_loss: 2.153  val_accuracy: 38.000\n",
      "Training_Time: 164.96 seconds\n",
      "train epoch[9/10] loss:1.549: 100%|██████████| 495/495 [02:43<00:00,  3.03it/s]\n",
      "valid epoch[9/10]: 100%|██████████| 4/4 [00:00<00:00,  5.51it/s]\n",
      "[epoch 9] train_loss: 1.717  train_accuracy: 48.224\n",
      "[epoch 9] val_loss: 2.177  val_accuracy: 44.667\n",
      "Training_Time: 164.01 seconds\n",
      "train epoch[10/10] loss:1.726: 100%|██████████| 495/495 [02:45<00:00,  3.00it/s]\n",
      "valid epoch[10/10]: 100%|██████████| 4/4 [00:00<00:00,  5.24it/s]\n",
      "[epoch 10] train_loss: 1.607  train_accuracy: 51.120\n",
      "[epoch 10] val_loss: 1.709  val_accuracy: 48.222\n",
      "Training_Time: 165.94 seconds\n",
      "訓練完成\n"
     ]
    }
   ],
   "source": [
    "import time\n",
    "import sys\n",
    "import tqdm as notebook_tqdm\n",
    "\n",
    "# 訓練和驗證模型\n",
    "num_epochs = 10\n",
    "best_acc = 0.0\n",
    "save_path = 'best_revised_ResNet.pth'\n",
    "t_l, t_a = [], []\n",
    "v_l, v_a = [], []\n",
    "for epoch in range(num_epochs):\n",
    "    start_time = time.time()\n",
    "    train_loss, train_accuracy = train(epoch, num_epochs, model, train_loader, optimizer, criterion, device)\n",
    "    val_loss, val_accurate = validate(epoch, num_epochs, model, val_loader, criterion, device)\n",
    "    t_l.append(train_loss)\n",
    "    t_a.append(train_accuracy)\n",
    "    v_l.append(val_loss)\n",
    "    v_a.append(val_accurate)\n",
    "    \n",
    "    print('[epoch %d] train_loss: %.3f  train_accuracy: %.3f' %\n",
    "            (epoch + 1, train_loss, train_accuracy))\n",
    "    print('[epoch %d] val_loss: %.3f  val_accuracy: %.3f' %\n",
    "            (epoch + 1, val_loss, val_accurate))\n",
    "    \n",
    "    if val_accurate > best_acc:\n",
    "        best_acc = val_accurate\n",
    "        torch.save(model.state_dict(), save_path)\n",
    "    end_time = time.time()\n",
    "    print(f'Training_Time: {end_time - start_time:.2f} seconds')\n",
    "    \n",
    "print('訓練完成')"
   ]
  },
  {
   "cell_type": "code",
   "execution_count": 8,
   "id": "be7850a8-6ac5-4eee-a8cd-eabd270620b7",
   "metadata": {
    "tags": []
   },
   "outputs": [
    {
     "name": "stdout",
     "output_type": "stream",
     "text": [
      "Test Acc: 0.4822\n"
     ]
    }
   ],
   "source": [
    "# 測試模型\n",
    "model.load_state_dict(torch.load('best_revised_ResNet.pth'))\n",
    "model.eval()\n",
    "test_running_corrects = 0\n",
    "\n",
    "with torch.no_grad():\n",
    "    for inputs, labels in test_loader:\n",
    "        inputs = inputs.to(device)\n",
    "        labels = labels.to(device)\n",
    "\n",
    "        outputs = model(inputs)\n",
    "        _, preds = torch.max(outputs, 1)\n",
    "        test_running_corrects += torch.sum(preds == labels.data)\n",
    "\n",
    "test_acc = test_running_corrects.double() / len(test_dataset)\n",
    "print(f'Test Acc: {test_acc:.4f}')"
   ]
  },
  {
   "cell_type": "markdown",
   "id": "49acc905-2473-42e8-9eff-8234bff0c014",
   "metadata": {},
   "source": [
    "# import CustomMobileNetV3"
   ]
  },
  {
   "cell_type": "code",
   "execution_count": 14,
   "id": "de45d81c-dd0d-43a3-92a1-de8c60a8a320",
   "metadata": {
    "tags": []
   },
   "outputs": [
    {
     "name": "stdout",
     "output_type": "stream",
     "text": [
      "using cuda device.\n"
     ]
    }
   ],
   "source": [
    "from re_mobile import CustomMobileNetV3\n",
    "\n",
    "device = torch.device('cuda' if torch.cuda.is_available() else 'cpu')\n",
    "print(\"using {} device.\".format(device))\n",
    "\n",
    "# 定義 revised_RDN 模型（不使用預訓練權重）\n",
    "model = CustomMobileNetV3()\n",
    "model = model.to(device) \n",
    "\n",
    "# 定義損失函數和優化器\n",
    "criterion = nn.CrossEntropyLoss()\n",
    "optimizer = optim.Adam(model.parameters(), lr=0.001, weight_decay=1e-4)"
   ]
  },
  {
   "cell_type": "code",
   "execution_count": 15,
   "id": "1a89da54-1457-48c3-894a-39c036ee8186",
   "metadata": {
    "tags": []
   },
   "outputs": [
    {
     "name": "stdout",
     "output_type": "stream",
     "text": [
      "train epoch[1/10] loss:3.083: 100%|██████████| 495/495 [01:43<00:00,  4.80it/s]\n",
      "valid epoch[1/10]: 100%|██████████| 4/4 [00:00<00:00,  6.50it/s]\n",
      "[epoch 1] train_loss: 3.335  train_accuracy: 13.143\n",
      "[epoch 1] val_loss: 3.143  val_accuracy: 16.444\n",
      "Training_Time: 103.80 seconds\n",
      "train epoch[2/10] loss:3.187: 100%|██████████| 495/495 [01:43<00:00,  4.76it/s]\n",
      "valid epoch[2/10]: 100%|██████████| 4/4 [00:00<00:00,  6.87it/s]\n",
      "[epoch 2] train_loss: 3.055  train_accuracy: 18.299\n",
      "[epoch 2] val_loss: 2.977  val_accuracy: 18.444\n",
      "Training_Time: 104.55 seconds\n",
      "train epoch[3/10] loss:3.007: 100%|██████████| 495/495 [01:44<00:00,  4.72it/s]\n",
      "valid epoch[3/10]: 100%|██████████| 4/4 [00:00<00:00,  6.82it/s]\n",
      "[epoch 3] train_loss: 2.926  train_accuracy: 20.771\n",
      "[epoch 3] val_loss: 2.909  val_accuracy: 18.889\n",
      "Training_Time: 105.45 seconds\n",
      "train epoch[4/10] loss:2.879: 100%|██████████| 495/495 [01:45<00:00,  4.70it/s]\n",
      "valid epoch[4/10]: 100%|██████████| 4/4 [00:00<00:00,  7.20it/s]\n",
      "[epoch 4] train_loss: 2.844  train_accuracy: 22.389\n",
      "[epoch 4] val_loss: 2.831  val_accuracy: 20.000\n",
      "Training_Time: 105.98 seconds\n",
      "train epoch[5/10] loss:2.834: 100%|██████████| 495/495 [01:45<00:00,  4.71it/s]\n",
      "valid epoch[5/10]: 100%|██████████| 4/4 [00:00<00:00,  6.98it/s]\n",
      "[epoch 5] train_loss: 2.775  train_accuracy: 23.934\n",
      "[epoch 5] val_loss: 2.822  val_accuracy: 18.667\n",
      "Training_Time: 105.74 seconds\n",
      "train epoch[6/10] loss:2.514: 100%|██████████| 495/495 [01:45<00:00,  4.69it/s]\n",
      "valid epoch[6/10]: 100%|██████████| 4/4 [00:00<00:00,  6.97it/s]\n",
      "[epoch 6] train_loss: 2.722  train_accuracy: 25.281\n",
      "[epoch 6] val_loss: 2.753  val_accuracy: 22.000\n",
      "Training_Time: 106.03 seconds\n",
      "train epoch[7/10] loss:2.602: 100%|██████████| 495/495 [01:45<00:00,  4.70it/s]\n",
      "valid epoch[7/10]: 100%|██████████| 4/4 [00:00<00:00,  7.05it/s]\n",
      "[epoch 7] train_loss: 2.675  train_accuracy: 26.176\n",
      "[epoch 7] val_loss: 2.664  val_accuracy: 24.222\n",
      "Training_Time: 105.90 seconds\n",
      "train epoch[8/10] loss:2.842: 100%|██████████| 495/495 [01:44<00:00,  4.73it/s]\n",
      "valid epoch[8/10]: 100%|██████████| 4/4 [00:00<00:00,  6.98it/s]\n",
      "[epoch 8] train_loss: 2.633  train_accuracy: 27.209\n",
      "[epoch 8] val_loss: 2.626  val_accuracy: 26.889\n",
      "Training_Time: 105.17 seconds\n",
      "train epoch[9/10] loss:2.595: 100%|██████████| 495/495 [01:44<00:00,  4.73it/s]\n",
      "valid epoch[9/10]: 100%|██████████| 4/4 [00:00<00:00,  7.00it/s]\n",
      "[epoch 9] train_loss: 2.593  train_accuracy: 28.027\n",
      "[epoch 9] val_loss: 2.603  val_accuracy: 23.778\n",
      "Training_Time: 105.24 seconds\n",
      "train epoch[10/10] loss:2.782: 100%|██████████| 495/495 [01:43<00:00,  4.77it/s]\n",
      "valid epoch[10/10]: 100%|██████████| 4/4 [00:00<00:00,  6.49it/s]\n",
      "[epoch 10] train_loss: 2.557  train_accuracy: 28.809\n",
      "[epoch 10] val_loss: 2.554  val_accuracy: 27.778\n",
      "Training_Time: 104.50 seconds\n",
      "訓練完成\n"
     ]
    }
   ],
   "source": [
    "import time\n",
    "import sys\n",
    "import tqdm as notebook_tqdm\n",
    "\n",
    "# 訓練和驗證模型\n",
    "num_epochs = 10\n",
    "best_acc = 0.0\n",
    "save_path = 'best_CustomMobileNetV3.pth'\n",
    "t_l, t_a = [], []\n",
    "v_l, v_a = [], []\n",
    "for epoch in range(num_epochs):\n",
    "    start_time = time.time()\n",
    "    train_loss, train_accuracy = train(epoch, num_epochs, model, train_loader, optimizer, criterion, device)\n",
    "    val_loss, val_accurate = validate(epoch, num_epochs, model, val_loader, criterion, device)\n",
    "    t_l.append(train_loss)\n",
    "    t_a.append(train_accuracy)\n",
    "    v_l.append(val_loss)\n",
    "    v_a.append(val_accurate)\n",
    "    \n",
    "    print('[epoch %d] train_loss: %.3f  train_accuracy: %.3f' %\n",
    "            (epoch + 1, train_loss, train_accuracy))\n",
    "    print('[epoch %d] val_loss: %.3f  val_accuracy: %.3f' %\n",
    "            (epoch + 1, val_loss, val_accurate))\n",
    "    \n",
    "    if val_accurate > best_acc:\n",
    "        best_acc = val_accurate\n",
    "        torch.save(model.state_dict(), save_path)\n",
    "    end_time = time.time()\n",
    "    print(f'Training_Time: {end_time - start_time:.2f} seconds')\n",
    "    \n",
    "print('訓練完成')"
   ]
  },
  {
   "cell_type": "code",
   "execution_count": 16,
   "id": "14af885a-dacc-4737-a285-91b348c22fbd",
   "metadata": {
    "tags": []
   },
   "outputs": [
    {
     "name": "stdout",
     "output_type": "stream",
     "text": [
      "Test Acc: 0.2911\n"
     ]
    }
   ],
   "source": [
    "# 測試模型\n",
    "model.load_state_dict(torch.load('best_CustomMobileNetV3.pth'))\n",
    "model.eval()\n",
    "test_running_corrects = 0\n",
    "\n",
    "with torch.no_grad():\n",
    "    for inputs, labels in test_loader:\n",
    "        inputs = inputs.to(device)\n",
    "        labels = labels.to(device)\n",
    "\n",
    "        outputs = model(inputs)\n",
    "        _, preds = torch.max(outputs, 1)\n",
    "        test_running_corrects += torch.sum(preds == labels.data)\n",
    "\n",
    "test_acc = test_running_corrects.double() / len(test_dataset)\n",
    "print(f'Test Acc: {test_acc:.4f}')"
   ]
  },
  {
   "cell_type": "code",
   "execution_count": 19,
   "id": "8fcb5e80-757d-4024-a7f9-c973ae7799b2",
   "metadata": {
    "tags": []
   },
   "outputs": [],
   "source": [
    "# 假設 t_l, t_a, v_l, v_a 已經被填充\n",
    "filename = 'CustomMobileNetV3.txt'\n",
    "save_metrics_to_file(t_l, t_a, v_l, v_a, filename)"
   ]
  },
  {
   "cell_type": "code",
   "execution_count": 22,
   "id": "5609bfb6-c94c-4b10-a2da-ea52ad263379",
   "metadata": {
    "tags": []
   },
   "outputs": [
    {
     "data": {
      "image/png": "[encoded data removed]",
      "text/plain": [
       "<Figure size 1200x600 with 4 Axes>"
      ]
     },
     "metadata": {},
     "output_type": "display_data"
    }
   ],
   "source": [
    "import matplotlib.pyplot as plt\n",
    "\n",
    "# 讀取txt文件並提取數據\n",
    "def read_data(file_path):\n",
    "    train_losses = []\n",
    "    train_accuracies = []\n",
    "    val_losses = []\n",
    "    val_accuracies = []\n",
    "    with open(file_path, 'r') as f:\n",
    "        lines = f.readlines()\n",
    "        i = 0\n",
    "        while i < len(lines):\n",
    "                if 0 < i < 11:\n",
    "                    train_losses.append(float(lines[i].strip()))\n",
    "                    i += 1\n",
    "\n",
    "                elif 11 < i < 22:\n",
    "                    train_accuracies.append(float(lines[i].strip()))\n",
    "                    i += 1\n",
    "                    \n",
    "                elif 22 < i < 33:\n",
    "                    val_losses.append(float(lines[i].strip()))\n",
    "                    i += 1\n",
    "                    \n",
    "                elif 33 < i < 44:\n",
    "                    val_accuracies.append(float(lines[i].strip()))\n",
    "                    i += 1\n",
    "                else:\n",
    "                    i += 1\n",
    "    return train_losses, train_accuracies, val_losses, val_accuracies\n",
    "\n",
    "# 讀取訓練和驗證數據\n",
    "train_losses_1, train_accuracies_1, val_losses_1, val_accuracies_1 = read_data('resnet34.txt')\n",
    "train_losses_2, train_accuracies_2, val_losses_2, val_accuracies_2 = read_data('re_alexnet.txt')\n",
    "train_losses_3, train_accuracies_3, val_losses_3, val_accuracies_3 = read_data('revised_ResNet.txt')\n",
    "train_losses_4, train_accuracies_4, val_losses_4, val_accuracies_4 = read_data('CustomMobileNetV3.txt')\n",
    "\n",
    "x = []\n",
    "for i in range(10):\n",
    "    x.append(i)\n",
    "\n",
    "# 繪製訓練和驗證損失\n",
    "plt.figure(figsize=(12, 6))\n",
    "\n",
    "plt.subplot(2, 2, 1)\n",
    "plt.plot(x, train_losses_1, label='resnet34')\n",
    "plt.plot(x, train_losses_2, label='re_alexnet')\n",
    "plt.plot(x, train_losses_3, label='revised_ResNet')\n",
    "plt.plot(x, train_losses_4, label='CustomMobileNetV3')\n",
    "plt.xlabel('Epoch')\n",
    "plt.ylabel('Loss')\n",
    "plt.title('Train Loss')\n",
    "plt.legend()\n",
    "\n",
    "# 繪製訓練和驗證準確度\n",
    "plt.subplot(2, 2, 2)\n",
    "plt.plot(x, val_losses_1, label='resnet34')\n",
    "plt.plot(x, val_losses_2, label='re_alexnet')\n",
    "plt.plot(x, val_losses_3, label='revised_ResNet')\n",
    "plt.plot(x, val_losses_4, label='CustomMobileNetV3')\n",
    "plt.xlabel('Epoch')\n",
    "plt.ylabel('Loss')\n",
    "plt.title('Val Loss')\n",
    "plt.legend()\n",
    "\n",
    "plt.subplot(2, 2, 3)\n",
    "plt.plot(train_accuracies_1, label='resnet34')\n",
    "plt.plot(train_accuracies_2, label='re_alexnet')\n",
    "plt.plot(train_accuracies_3, label='revised_ResNet')\n",
    "plt.plot(train_accuracies_4, label='CustomMobileNetV3')\n",
    "plt.xlabel('Epoch')\n",
    "plt.ylabel('Accuracy')\n",
    "plt.title('Train Acc')\n",
    "plt.legend()\n",
    "\n",
    "# 繪製訓練和驗證準確度\n",
    "plt.subplot(2, 2, 4)\n",
    "plt.plot(val_accuracies_1, label='resnet34')\n",
    "plt.plot(val_accuracies_2, label='re_alexnet')\n",
    "plt.plot(val_accuracies_3, label='revised_ResNet')\n",
    "plt.plot(val_accuracies_4, label='CustomMobileNetV3')\n",
    "plt.xlabel('Epoch')\n",
    "plt.ylabel('Accuracy')\n",
    "plt.title('Val Accuracy')\n",
    "plt.legend()\n",
    "\n",
    "plt.tight_layout()\n",
    "plt.show()"
   ]
  },
  {
   "cell_type": "code",
   "execution_count": null,
   "id": "ca4d6213-5801-4e7e-b0f9-32037cc88b5c",
   "metadata": {},
   "outputs": [],
   "source": []
  }
 ],
 "metadata": {
  "kernelspec": {
   "display_name": "dl",
   "language": "python",
   "name": "dl"
  },
  "language_info": {
   "codemirror_mode": {
    "name": "ipython",
    "version": 3
   },
   "file_extension": ".py",
   "mimetype": "text/x-python",
   "name": "python",
   "nbconvert_exporter": "python",
   "pygments_lexer": "ipython3",
   "version": "3.11.8"
  }
 },
 "nbformat": 4,
 "nbformat_minor": 5
}
