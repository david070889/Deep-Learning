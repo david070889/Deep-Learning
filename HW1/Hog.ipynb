{
 "cells": [
  {
   "cell_type": "code",
   "execution_count": 1,
   "id": "b6576c03-8029-4ffd-8d1f-d3daa18d3abf",
   "metadata": {},
   "outputs": [],
   "source": [
    "import cv2\n",
    "import numpy as np\n",
    "from sklearn.model_selection import train_test_split\n",
    "from sklearn.metrics import accuracy_score, classification_report\n",
    "from skimage.feature import hog\n",
    "\n",
    "def load_img(f):\n",
    "    f=open(f)\n",
    "    lines=f.readlines()\n",
    "    imgs, lab=[], []\n",
    "    for i in range(len(lines)):\n",
    "        fn, label = lines[i].split(' ')\n",
    "        \n",
    "        im1=cv2.imread(fn)\n",
    "        im1=cv2.resize(im1, (256,256))\n",
    "        im1 = cv2.cvtColor(im1, cv2.COLOR_BGR2GRAY)\n",
    "        \n",
    "        im1 = hog(im1, orientations=9, pixels_per_cell= (8, 8), cells_per_block=(2, 2), block_norm=\"L2-Hys\", transform_sqrt = True)\n",
    "\n",
    "        vec = np.reshape(im1, [-1])\n",
    "        imgs.append(vec) \n",
    "        lab.append(int(label))\n",
    "        \n",
    "    imgs= np.asarray(imgs, np.float32)\n",
    "    lab= np.asarray(lab, np.int32)\n",
    "    return imgs, lab \n",
    "    \n",
    "x, y = load_img('train.txt')\n",
    "tx, ty = load_img('test.txt')\n"
   ]
  },
  {
   "cell_type": "code",
   "execution_count": null,
   "id": "03b63a56-8a2d-4f00-9910-7f341db12cae",
   "metadata": {},
   "outputs": [],
   "source": [
    "from sklearn import svm\n",
    "clf = svm.SVC()\n",
    "clf.fit(x, y)\n",
    "predictions = clf.predict(tx)\n",
    "accuracy = accuracy_score(ty, predictions)\n",
    "matrix = classification_report(ty, predictions)\n",
    "print(f'Accuracy: {100 * accuracy}')\n",
    "print(\"Classification Report\")\n",
    "print(matrix)"
   ]
  },
  {
   "cell_type": "code",
   "execution_count": null,
   "id": "8ef74e45-2bba-46ca-b1ac-ab3726bd980a",
   "metadata": {},
   "outputs": [],
   "source": [
    "from sklearn.neighbors import KNeighborsClassifier\n",
    "k = 100\n",
    "knn = KNeighborsClassifier(n_neighbors=k)\n",
    "knn.fit(x, y)\n",
    "predictions = knn.predict(tx)\n",
    "accuracy = accuracy_score(ty, predictions)\n",
    "matrix = classification_report(ty, predictions)\n",
    "print(f\"accuracy = {100 * accuracy}%\")\n",
    "print(\"Classification Report\")\n",
    "print(matrix)"
   ]
  },
  {
   "cell_type": "code",
   "execution_count": null,
   "id": "83795780-ac02-4892-8753-e0b9ca76456e",
   "metadata": {},
   "outputs": [],
   "source": [
    "from sklearn.ensemble import RandomForestClassifier\n",
    "rf = RandomForestClassifier(n_estimators=100)\n",
    "rf.fit(x, y)\n",
    "predictions = rf.predict(tx)\n",
    "accuracy = accuracy_score(ty, predictions)\n",
    "matrix = classification_report(ty, predictions)\n",
    "print(f\"accuracy = {100 * accuracy}%\")\n",
    "print(\"Classification Report\")\n",
    "print(matrix)"
   ]
  }
 ],
 "metadata": {
  "kernelspec": {
   "display_name": "GPU",
   "language": "python",
   "name": "gpu_env"
  },
  "language_info": {
   "codemirror_mode": {
    "name": "ipython",
    "version": 3
   },
   "file_extension": ".py",
   "mimetype": "text/x-python",
   "name": "python",
   "nbconvert_exporter": "python",
   "pygments_lexer": "ipython3",
   "version": "3.9.19"
  }
 },
 "nbformat": 4,
 "nbformat_minor": 5
}
